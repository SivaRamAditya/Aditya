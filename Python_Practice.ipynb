{
  "nbformat": 4,
  "nbformat_minor": 0,
  "metadata": {
    "colab": {
      "name": "Python_Practice.ipynb",
      "provenance": [],
      "authorship_tag": "ABX9TyPgva1j49uiT7zND8+60Yjs",
      "include_colab_link": true
    },
    "kernelspec": {
      "name": "python3",
      "display_name": "Python 3"
    },
    "language_info": {
      "name": "python"
    }
  },
  "cells": [
    {
      "cell_type": "markdown",
      "metadata": {
        "id": "view-in-github",
        "colab_type": "text"
      },
      "source": [
        "<a href=\"https://colab.research.google.com/github/SivaRamAditya/Aditya/blob/master/Python_Practice.ipynb\" target=\"_parent\"><img src=\"https://colab.research.google.com/assets/colab-badge.svg\" alt=\"Open In Colab\"/></a>"
      ]
    },
    {
      "cell_type": "markdown",
      "metadata": {
        "id": "3-Kh4dEK2ynv"
      },
      "source": [
        "**Function Example**"
      ]
    },
    {
      "cell_type": "code",
      "metadata": {
        "colab": {
          "base_uri": "https://localhost:8080/"
        },
        "id": "H_NY_pbq2vkh",
        "outputId": "f019bf31-2918-4ae4-cc80-e199d20d0673"
      },
      "source": [
        "def is_odd(input):\n",
        "  if input % 2 == 0:\n",
        "    print(str(input) + ' is even number')\n",
        "  elif input % 2 != 0:\n",
        "    print(str(input) + ' is odd number')\n",
        "  else:\n",
        "    print('Value is invalid')\n",
        "\n",
        "is_odd(1)\n",
        "is_odd(10)"
      ],
      "execution_count": 4,
      "outputs": [
        {
          "output_type": "stream",
          "text": [
            "1 is odd number\n",
            "10 is even number\n"
          ],
          "name": "stdout"
        }
      ]
    }
  ]
}